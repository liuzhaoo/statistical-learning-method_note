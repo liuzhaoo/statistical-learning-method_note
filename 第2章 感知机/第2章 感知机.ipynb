{
 "cells": [
  {
   "cell_type": "markdown",
   "metadata": {},
   "source": [
    "感知机是一种线性分类模型，属于判别模型。对输入的实例进行2分类（+1，-1）.\n",
    "- 由输入空间到输出空间的如下函数称为感知机 \n",
    "$$f(x)=sign(w \\cdot x+b)$$\n",
    "\n"
   ]
  },
  {
   "cell_type": "markdown",
   "metadata": {},
   "source": [
    "### 感知机学习策略\n",
    " 1. 数据据的线性可分性\n",
    "\n",
    "    即存在超平面$w \\cdot x+b$ 可以将数据集的正实例点和负实例点完全正确地划分到超平面的两侧。\n",
    "    \n",
    "    对$y_i=+1$的实例$i$，有$w \\cdot x_i+b >0$,\n",
    "    \n",
    "    对$y_i=-1$的实例$i$，有$w \\cdot x_i+b <0$\n",
    "    \n",
    "    \n",
    " 2. 感知机学习策略\n",
    "\n",
    "    确定w，b即可，确定一个学习策略，即定义（经验）损失函数并将损失函数极小化。这里取损失函数为误分类点到超平面S的总距离（所有距离之和）。定义为 \n",
    "    $$L(w,b) = - \\sum_{x_i \\in M} y_i(w \\cdot x_i+b)$$\n",
    "\n",
    "    其中M是误分类点的集合，$- y_i(w \\cdot x_i+b) > 0$ ,$L(w,b)$ 是非负的"
   ]
  },
  {
   "cell_type": "markdown",
   "metadata": {},
   "source": [
    "### 感知机学习算法\n",
    "\n",
    "使用随机梯度下降法最小化损失函数:感知机学习算法是误分类驱动的。首先任意选取一个超平面$w_0,b_0$,然后用随机梯度下降法不断极小化损失函数。此过程不是一次使M中所有误分类点的梯度下降，而是一次随机选取一个误分类点使其梯度下降:\n",
    "$$ w = w +\\eta y_i x_i$$\n",
    "$$b = b+\\eta y_i$$\n",
    "当实例点被误分类，即位于超平面的错误侧，则调整$w$, $b$的值，使超平面向该误分类点的一侧移动，直至误分类点被正确分类"
   ]
  },
  {
   "cell_type": "code",
   "execution_count": 2,
   "metadata": {},
   "outputs": [
    {
     "name": "stderr",
     "output_type": "stream",
     "text": [
      "D:\\Anaconda\\lib\\importlib\\_bootstrap.py:219: RuntimeWarning: numpy.ufunc size changed, may indicate binary incompatibility. Expected 192 from C header, got 216 from PyObject\n",
      "  return f(*args, **kwds)\n",
      "D:\\Anaconda\\lib\\importlib\\_bootstrap.py:219: RuntimeWarning: numpy.ufunc size changed, may indicate binary incompatibility. Expected 192 from C header, got 216 from PyObject\n",
      "  return f(*args, **kwds)\n"
     ]
    }
   ],
   "source": [
    "import pandas as pd \n",
    "import numpy as np\n",
    "from sklearn.datasets import load_iris\n",
    "import matplotlib.pyplot as plt\n",
    "%matplotlib inline"
   ]
  },
  {
   "cell_type": "code",
   "execution_count": 3,
   "metadata": {},
   "outputs": [
    {
     "data": {
      "text/plain": [
       "2    50\n",
       "1    50\n",
       "0    50\n",
       "Name: label, dtype: int64"
      ]
     },
     "execution_count": 3,
     "metadata": {},
     "output_type": "execute_result"
    }
   ],
   "source": [
    "# 取样本点数据\n",
    "iris = load_iris()\n",
    "df = pd.DataFrame(iris.data, columns=iris.feature_names)\n",
    "df['label'] = iris.target\n",
    "\n",
    "df.columns = [\n",
    "    'sepal length', 'sepal width', 'petal length', 'petal width', 'label'\n",
    "]\n",
    "df.label.value_counts()"
   ]
  },
  {
   "cell_type": "code",
   "execution_count": 4,
   "metadata": {},
   "outputs": [
    {
     "data": {
      "text/plain": [
       "<matplotlib.legend.Legend at 0x22429b9e388>"
      ]
     },
     "execution_count": 4,
     "metadata": {},
     "output_type": "execute_result"
    },
    {
     "data": {
      "image/png": "[encoded data removed]",
      "text/plain": [
       "<Figure size 432x288 with 1 Axes>"
      ]
     },
     "metadata": {
      "needs_background": "light"
     },
     "output_type": "display_data"
    }
   ],
   "source": [
    "plt.scatter(df[:50]['sepal length'], df[:50]['sepal width'], label='0')\n",
    "plt.scatter(df[50:100]['sepal length'], df[50:100]['sepal width'], label='1')\n",
    "plt.xlabel('sepal length')\n",
    "plt.ylabel('sepal width')\n",
    "plt.legend()"
   ]
  },
  {
   "cell_type": "code",
   "execution_count": 5,
   "metadata": {},
   "outputs": [],
   "source": [
    "data = np.array(df.iloc[:100, [0, 1, -1]]) # 转为numpy\n",
    "X, y = data[:,:-1], data[:,-1]\n",
    "y = np.array([1 if i == 1 else -1 for i in y])\n"
   ]
  },
  {
   "cell_type": "code",
   "execution_count": 8,
   "metadata": {},
   "outputs": [],
   "source": [
    "### 感知机\n",
    "\n",
    "class Model:\n",
    "    def __init__(self):\n",
    "        self.w = np.ones(len(data[0])-1,dtype=np.float32) # 初始化w\n",
    "        self.b=0\n",
    "        self.lr=0.1\n",
    "    def sign(self,x,w,b):\n",
    "        return np.dot(x,w)+b \n",
    "    \n",
    "    # sgd\n",
    "    def sgd(self,X_train,y_train):\n",
    "        is_wrong = False\n",
    "        while not is_wrong:\n",
    "            wrong_count =0\n",
    "            for d in range(len(X_train)):\n",
    "                X = X_train[d]\n",
    "                y = y_train[d]\n",
    "                if y*self.sign(X,self.w,self.b) <=0:\n",
    "                    self.w = self.w +self.lr*np.dot(y,X)\n",
    "                    self.b = self.b +self.lr*y\n",
    "                    \n",
    "                    wrong_count+=1\n",
    "            if wrong_count ==0:\n",
    "                is_wrong = True\n",
    "        return 'Perceptron Model!'\n",
    "                \n",
    "                \n",
    "                \n",
    "            "
   ]
  },
  {
   "cell_type": "code",
   "execution_count": 11,
   "metadata": {},
   "outputs": [
    {
     "data": {
      "text/plain": [
       "'Perceptron Model!'"
      ]
     },
     "execution_count": 11,
     "metadata": {},
     "output_type": "execute_result"
    }
   ],
   "source": [
    "perceptron = Model()\n",
    "perceptron.sgd(X, y)"
   ]
  },
  {
   "cell_type": "code",
   "execution_count": 12,
   "metadata": {},
   "outputs": [
    {
     "data": {
      "text/plain": [
       "<matplotlib.legend.Legend at 0x2242bf8f408>"
      ]
     },
     "execution_count": 12,
     "metadata": {},
     "output_type": "execute_result"
    },
    {
     "data": {
      "image/png": "[encoded data removed]",
      "text/plain": [
       "<Figure size 432x288 with 1 Axes>"
      ]
     },
     "metadata": {
      "needs_background": "light"
     },
     "output_type": "display_data"
    }
   ],
   "source": [
    "x_points = np.linspace(4, 7, 10)            # 取几个x点\n",
    "y_ = -(perceptron.w[0] * x_points + perceptron.b) / perceptron.w[1]  # 对应的分界线的y\n",
    "plt.plot(x_points, y_)\n",
    "\n",
    "plt.plot(data[:50, 0], data[:50, 1], 'bo', color='blue', label='0')\n",
    "plt.plot(data[50:100, 0], data[50:100, 1], 'bo', color='orange', label='1')\n",
    "plt.xlabel('sepal length')\n",
    "plt.ylabel('sepal width')\n",
    "plt.legend()"
   ]
  },
  {
   "cell_type": "code",
   "execution_count": null,
   "metadata": {},
   "outputs": [],
   "source": []
  }
 ],
 "metadata": {
  "kernelspec": {
   "display_name": "Python 3",
   "language": "python",
   "name": "python3"
  },
  "language_info": {
   "codemirror_mode": {
    "name": "ipython",
    "version": 3
   },
   "file_extension": ".py",
   "mimetype": "text/x-python",
   "name": "python",
   "nbconvert_exporter": "python",
   "pygments_lexer": "ipython3",
   "version": "3.7.4"
  }
 },
 "nbformat": 4,
 "nbformat_minor": 2
}
